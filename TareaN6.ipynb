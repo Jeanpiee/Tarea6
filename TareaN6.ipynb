{
 "cells": [
  {
   "cell_type": "code",
   "execution_count": 13,
   "id": "bf9f4a1b",
   "metadata": {},
   "outputs": [],
   "source": [
    "# FUNCIÓN 1. Generación de la población\n",
    "\n",
    "# FUNCIÓN 2. conteo de frecuencia de alelos\n",
    "\n",
    "# Función 3. reproduccion de la poblacion en el modulo del poblacion mendeliana."
   ]
  },
  {
   "cell_type": "code",
   "execution_count": 14,
   "id": "eee7bb10",
   "metadata": {},
   "outputs": [],
   "source": [
    "import poblacionmendeliana"
   ]
  },
  {
   "cell_type": "code",
   "execution_count": 15,
   "id": "24d20fb3",
   "metadata": {},
   "outputs": [],
   "source": [
    "import scipy "
   ]
  },
  {
   "cell_type": "code",
   "execution_count": 16,
   "id": "5ee8b867",
   "metadata": {},
   "outputs": [
    {
     "name": "stdout",
     "output_type": "stream",
     "text": [
      "Help on function build_population in module poblacionmendeliana:\n",
      "\n",
      "build_population(N, p)\n",
      "    The population consists of N individuals.Each individual has two chromosomes, containing\n",
      "    allele \"A\" or \"a\", with probability p or 1-p, respectively.The population is a list of tuples.\n",
      "\n"
     ]
    }
   ],
   "source": [
    "help(poblacionmendeliana.build_population)"
   ]
  },
  {
   "cell_type": "code",
   "execution_count": 17,
   "id": "ab3d20b5",
   "metadata": {},
   "outputs": [
    {
     "name": "stdout",
     "output_type": "stream",
     "text": [
      "Help on function compute_frequencies in module poblacionmendeliana:\n",
      "\n",
      "compute_frequencies(population)\n",
      "    Count the genotypes.Returns a dictionary of genotypic frequencies.\n",
      "\n"
     ]
    }
   ],
   "source": [
    "help(poblacionmendeliana.compute_frequencies)"
   ]
  },
  {
   "cell_type": "code",
   "execution_count": 18,
   "id": "0ecb9652",
   "metadata": {},
   "outputs": [
    {
     "name": "stdout",
     "output_type": "stream",
     "text": [
      "Help on function reproduce_population in module poblacionmendeliana:\n",
      "\n",
      "reproduce_population(population)\n",
      "    Create new generation through reproduction. For each of N new offspring:\n",
      "    - choose the parents at random, \n",
      "    - the offspring receives a chromosome from each of the parents.\n",
      "\n"
     ]
    }
   ],
   "source": [
    "help(poblacionmendeliana.reproduce_population)"
   ]
  },
  {
   "cell_type": "code",
   "execution_count": 19,
   "id": "b18f62e2",
   "metadata": {},
   "outputs": [],
   "source": [
    "#Importar Modulo\n",
    "import poblacionmendeliana  \n",
    "\n",
    "# NUMERO 500 GENERACIONES\n",
    "Num_generation = 500  \n",
    "New_generation = [] # FRECUENCIA DE LOS ALELOS\n",
    "\n",
    "# RANGO DE GENERACIONES \n",
    "for i in range(Num_generation): \n",
    "    new_genes = poblacionmendeliana.build_population(20,0.23) # Pinicial  20 (N) frecuencia,  DE 0.23 (A)\n",
    "    Fnew_genes = poblacionmendeliana.compute_frequencies(new_genes) # Frecuencia de alelos \n",
    "    mypop = (Fnew_genes) # Generaciones creadas \n",
    "    New_generation.append(mypop)"
   ]
  },
  {
   "cell_type": "code",
   "execution_count": 20,
   "id": "ccb8e48f",
   "metadata": {},
   "outputs": [
    {
     "name": "stdout",
     "output_type": "stream",
     "text": [
      "[{'AA': 1, 'aa': 16, 'Aa': 1, 'aA': 2}, {'AA': 0, 'aa': 9, 'Aa': 4, 'aA': 7}, {'AA': 0, 'aa': 13, 'Aa': 4, 'aA': 3}, {'AA': 2, 'aa': 9, 'Aa': 3, 'aA': 6}, {'AA': 2, 'aa': 12, 'Aa': 4, 'aA': 2}, {'AA': 1, 'aa': 13, 'Aa': 3, 'aA': 3}, {'AA': 2, 'aa': 12, 'Aa': 3, 'aA': 3}, {'AA': 2, 'aa': 12, 'Aa': 3, 'aA': 3}, {'AA': 0, 'aa': 9, 'Aa': 4, 'aA': 7}, {'AA': 0, 'aa': 15, 'Aa': 1, 'aA': 4}, {'AA': 1, 'aa': 10, 'Aa': 4, 'aA': 5}, {'AA': 1, 'aa': 14, 'Aa': 1, 'aA': 4}, {'AA': 1, 'aa': 10, 'Aa': 7, 'aA': 2}, {'AA': 0, 'aa': 14, 'Aa': 3, 'aA': 3}, {'AA': 0, 'aa': 12, 'Aa': 4, 'aA': 4}, {'AA': 0, 'aa': 13, 'Aa': 3, 'aA': 4}, {'AA': 2, 'aa': 14, 'Aa': 1, 'aA': 3}, {'AA': 3, 'aa': 9, 'Aa': 3, 'aA': 5}, {'AA': 2, 'aa': 12, 'Aa': 3, 'aA': 3}, {'AA': 1, 'aa': 10, 'Aa': 4, 'aA': 5}, {'AA': 1, 'aa': 14, 'Aa': 2, 'aA': 3}, {'AA': 0, 'aa': 12, 'Aa': 6, 'aA': 2}, {'AA': 0, 'aa': 12, 'Aa': 4, 'aA': 4}, {'AA': 0, 'aa': 14, 'Aa': 3, 'aA': 3}, {'AA': 1, 'aa': 9, 'Aa': 4, 'aA': 6}, {'AA': 1, 'aa': 11, 'Aa': 6, 'aA': 2}, {'AA': 1, 'aa': 12, 'Aa': 2, 'aA': 5}, {'AA': 1, 'aa': 13, 'Aa': 4, 'aA': 2}, {'AA': 0, 'aa': 12, 'Aa': 3, 'aA': 5}, {'AA': 1, 'aa': 11, 'Aa': 3, 'aA': 5}, {'AA': 1, 'aa': 11, 'Aa': 8, 'aA': 0}, {'AA': 1, 'aa': 9, 'Aa': 5, 'aA': 5}, {'AA': 1, 'aa': 13, 'Aa': 2, 'aA': 4}, {'AA': 1, 'aa': 10, 'Aa': 6, 'aA': 3}, {'AA': 2, 'aa': 12, 'Aa': 2, 'aA': 4}, {'AA': 0, 'aa': 16, 'Aa': 1, 'aA': 3}, {'AA': 0, 'aa': 13, 'Aa': 2, 'aA': 5}, {'AA': 2, 'aa': 7, 'Aa': 7, 'aA': 4}, {'AA': 0, 'aa': 9, 'Aa': 7, 'aA': 4}, {'AA': 2, 'aa': 10, 'Aa': 2, 'aA': 6}, {'AA': 0, 'aa': 14, 'Aa': 5, 'aA': 1}, {'AA': 0, 'aa': 13, 'Aa': 2, 'aA': 5}, {'AA': 1, 'aa': 11, 'Aa': 4, 'aA': 4}, {'AA': 0, 'aa': 14, 'Aa': 5, 'aA': 1}, {'AA': 1, 'aa': 11, 'Aa': 3, 'aA': 5}, {'AA': 2, 'aa': 11, 'Aa': 2, 'aA': 5}, {'AA': 1, 'aa': 13, 'Aa': 2, 'aA': 4}, {'AA': 1, 'aa': 12, 'Aa': 2, 'aA': 5}, {'AA': 1, 'aa': 8, 'Aa': 8, 'aA': 3}, {'AA': 1, 'aa': 12, 'Aa': 3, 'aA': 4}, {'AA': 0, 'aa': 12, 'Aa': 3, 'aA': 5}, {'AA': 1, 'aa': 14, 'Aa': 3, 'aA': 2}, {'AA': 0, 'aa': 12, 'Aa': 5, 'aA': 3}, {'AA': 2, 'aa': 12, 'Aa': 0, 'aA': 6}, {'AA': 2, 'aa': 7, 'Aa': 5, 'aA': 6}, {'AA': 0, 'aa': 10, 'Aa': 2, 'aA': 8}, {'AA': 1, 'aa': 12, 'Aa': 4, 'aA': 3}, {'AA': 1, 'aa': 11, 'Aa': 5, 'aA': 3}, {'AA': 2, 'aa': 14, 'Aa': 4, 'aA': 0}, {'AA': 1, 'aa': 11, 'Aa': 5, 'aA': 3}, {'AA': 2, 'aa': 14, 'Aa': 3, 'aA': 1}, {'AA': 2, 'aa': 15, 'Aa': 1, 'aA': 2}, {'AA': 1, 'aa': 9, 'Aa': 6, 'aA': 4}, {'AA': 0, 'aa': 13, 'Aa': 3, 'aA': 4}, {'AA': 2, 'aa': 14, 'Aa': 0, 'aA': 4}, {'AA': 1, 'aa': 7, 'Aa': 5, 'aA': 7}, {'AA': 0, 'aa': 16, 'Aa': 1, 'aA': 3}, {'AA': 1, 'aa': 12, 'Aa': 3, 'aA': 4}, {'AA': 2, 'aa': 12, 'Aa': 3, 'aA': 3}, {'AA': 1, 'aa': 10, 'Aa': 5, 'aA': 4}, {'AA': 2, 'aa': 10, 'Aa': 6, 'aA': 2}, {'AA': 1, 'aa': 13, 'Aa': 2, 'aA': 4}, {'AA': 2, 'aa': 12, 'Aa': 4, 'aA': 2}, {'AA': 1, 'aa': 12, 'Aa': 3, 'aA': 4}, {'AA': 1, 'aa': 11, 'Aa': 5, 'aA': 3}, {'AA': 1, 'aa': 15, 'Aa': 2, 'aA': 2}, {'AA': 2, 'aa': 11, 'Aa': 3, 'aA': 4}, {'AA': 1, 'aa': 11, 'Aa': 3, 'aA': 5}, {'AA': 2, 'aa': 9, 'Aa': 4, 'aA': 5}, {'AA': 1, 'aa': 12, 'Aa': 5, 'aA': 2}, {'AA': 1, 'aa': 9, 'Aa': 4, 'aA': 6}, {'AA': 1, 'aa': 11, 'Aa': 5, 'aA': 3}, {'AA': 1, 'aa': 11, 'Aa': 1, 'aA': 7}, {'AA': 0, 'aa': 11, 'Aa': 3, 'aA': 6}, {'AA': 1, 'aa': 15, 'Aa': 3, 'aA': 1}, {'AA': 1, 'aa': 14, 'Aa': 4, 'aA': 1}, {'AA': 1, 'aa': 13, 'Aa': 5, 'aA': 1}, {'AA': 2, 'aa': 11, 'Aa': 2, 'aA': 5}, {'AA': 2, 'aa': 11, 'Aa': 3, 'aA': 4}, {'AA': 1, 'aa': 14, 'Aa': 3, 'aA': 2}, {'AA': 1, 'aa': 11, 'Aa': 4, 'aA': 4}, {'AA': 1, 'aa': 12, 'Aa': 3, 'aA': 4}, {'AA': 1, 'aa': 10, 'Aa': 4, 'aA': 5}, {'AA': 3, 'aa': 10, 'Aa': 4, 'aA': 3}, {'AA': 1, 'aa': 12, 'Aa': 3, 'aA': 4}, {'AA': 0, 'aa': 14, 'Aa': 3, 'aA': 3}, {'AA': 2, 'aa': 11, 'Aa': 7, 'aA': 0}, {'AA': 1, 'aa': 10, 'Aa': 5, 'aA': 4}, {'AA': 1, 'aa': 11, 'Aa': 4, 'aA': 4}, {'AA': 0, 'aa': 15, 'Aa': 2, 'aA': 3}, {'AA': 0, 'aa': 13, 'Aa': 5, 'aA': 2}, {'AA': 2, 'aa': 10, 'Aa': 2, 'aA': 6}, {'AA': 3, 'aa': 15, 'Aa': 1, 'aA': 1}, {'AA': 1, 'aa': 12, 'Aa': 3, 'aA': 4}, {'AA': 2, 'aa': 10, 'Aa': 3, 'aA': 5}, {'AA': 1, 'aa': 9, 'Aa': 3, 'aA': 7}, {'AA': 2, 'aa': 13, 'Aa': 1, 'aA': 4}, {'AA': 1, 'aa': 13, 'Aa': 3, 'aA': 3}, {'AA': 0, 'aa': 11, 'Aa': 5, 'aA': 4}, {'AA': 0, 'aa': 12, 'Aa': 2, 'aA': 6}, {'AA': 1, 'aa': 9, 'Aa': 4, 'aA': 6}, {'AA': 1, 'aa': 11, 'Aa': 2, 'aA': 6}, {'AA': 0, 'aa': 16, 'Aa': 1, 'aA': 3}, {'AA': 1, 'aa': 10, 'Aa': 5, 'aA': 4}, {'AA': 0, 'aa': 12, 'Aa': 3, 'aA': 5}, {'AA': 1, 'aa': 12, 'Aa': 3, 'aA': 4}, {'AA': 0, 'aa': 11, 'Aa': 6, 'aA': 3}, {'AA': 0, 'aa': 10, 'Aa': 6, 'aA': 4}, {'AA': 1, 'aa': 11, 'Aa': 7, 'aA': 1}, {'AA': 1, 'aa': 12, 'Aa': 5, 'aA': 2}, {'AA': 2, 'aa': 11, 'Aa': 3, 'aA': 4}, {'AA': 0, 'aa': 14, 'Aa': 4, 'aA': 2}, {'AA': 0, 'aa': 14, 'Aa': 3, 'aA': 3}, {'AA': 2, 'aa': 9, 'Aa': 5, 'aA': 4}, {'AA': 0, 'aa': 13, 'Aa': 5, 'aA': 2}, {'AA': 1, 'aa': 13, 'Aa': 3, 'aA': 3}, {'AA': 0, 'aa': 10, 'Aa': 6, 'aA': 4}, {'AA': 0, 'aa': 10, 'Aa': 5, 'aA': 5}, {'AA': 0, 'aa': 14, 'Aa': 3, 'aA': 3}, {'AA': 2, 'aa': 13, 'Aa': 3, 'aA': 2}, {'AA': 0, 'aa': 16, 'Aa': 3, 'aA': 1}, {'AA': 1, 'aa': 13, 'Aa': 4, 'aA': 2}, {'AA': 1, 'aa': 12, 'Aa': 2, 'aA': 5}, {'AA': 1, 'aa': 11, 'Aa': 6, 'aA': 2}, {'AA': 1, 'aa': 13, 'Aa': 2, 'aA': 4}, {'AA': 0, 'aa': 11, 'Aa': 5, 'aA': 4}, {'AA': 3, 'aa': 9, 'Aa': 2, 'aA': 6}, {'AA': 3, 'aa': 9, 'Aa': 4, 'aA': 4}, {'AA': 0, 'aa': 9, 'Aa': 7, 'aA': 4}, {'AA': 1, 'aa': 12, 'Aa': 6, 'aA': 1}, {'AA': 0, 'aa': 13, 'Aa': 6, 'aA': 1}, {'AA': 1, 'aa': 13, 'Aa': 3, 'aA': 3}, {'AA': 1, 'aa': 10, 'Aa': 7, 'aA': 2}, {'AA': 1, 'aa': 11, 'Aa': 4, 'aA': 4}, {'AA': 3, 'aa': 6, 'Aa': 4, 'aA': 7}, {'AA': 4, 'aa': 11, 'Aa': 2, 'aA': 3}, {'AA': 1, 'aa': 13, 'Aa': 4, 'aA': 2}, {'AA': 0, 'aa': 10, 'Aa': 6, 'aA': 4}, {'AA': 0, 'aa': 16, 'Aa': 0, 'aA': 4}, {'AA': 1, 'aa': 13, 'Aa': 3, 'aA': 3}, {'AA': 2, 'aa': 12, 'Aa': 3, 'aA': 3}, {'AA': 2, 'aa': 11, 'Aa': 4, 'aA': 3}, {'AA': 1, 'aa': 11, 'Aa': 4, 'aA': 4}, {'AA': 1, 'aa': 13, 'Aa': 4, 'aA': 2}, {'AA': 2, 'aa': 16, 'Aa': 1, 'aA': 1}, {'AA': 1, 'aa': 14, 'Aa': 4, 'aA': 1}, {'AA': 3, 'aa': 11, 'Aa': 1, 'aA': 5}, {'AA': 0, 'aa': 13, 'Aa': 5, 'aA': 2}, {'AA': 1, 'aa': 9, 'Aa': 5, 'aA': 5}, {'AA': 1, 'aa': 10, 'Aa': 7, 'aA': 2}, {'AA': 1, 'aa': 12, 'Aa': 4, 'aA': 3}, {'AA': 0, 'aa': 12, 'Aa': 2, 'aA': 6}, {'AA': 1, 'aa': 9, 'Aa': 2, 'aA': 8}, {'AA': 3, 'aa': 12, 'Aa': 2, 'aA': 3}, {'AA': 1, 'aa': 13, 'Aa': 3, 'aA': 3}, {'AA': 0, 'aa': 8, 'Aa': 9, 'aA': 3}, {'AA': 1, 'aa': 15, 'Aa': 2, 'aA': 2}, {'AA': 3, 'aa': 12, 'Aa': 1, 'aA': 4}, {'AA': 3, 'aa': 11, 'Aa': 4, 'aA': 2}, {'AA': 3, 'aa': 11, 'Aa': 1, 'aA': 5}, {'AA': 0, 'aa': 10, 'Aa': 5, 'aA': 5}, {'AA': 1, 'aa': 14, 'Aa': 1, 'aA': 4}, {'AA': 2, 'aa': 9, 'Aa': 8, 'aA': 1}, {'AA': 2, 'aa': 12, 'Aa': 3, 'aA': 3}, {'AA': 4, 'aa': 11, 'Aa': 0, 'aA': 5}, {'AA': 1, 'aa': 9, 'Aa': 6, 'aA': 4}, {'AA': 1, 'aa': 12, 'Aa': 4, 'aA': 3}, {'AA': 2, 'aa': 12, 'Aa': 2, 'aA': 4}, {'AA': 2, 'aa': 12, 'Aa': 5, 'aA': 1}, {'AA': 1, 'aa': 12, 'Aa': 2, 'aA': 5}, {'AA': 4, 'aa': 7, 'Aa': 5, 'aA': 4}, {'AA': 0, 'aa': 14, 'Aa': 4, 'aA': 2}, {'AA': 0, 'aa': 13, 'Aa': 4, 'aA': 3}, {'AA': 1, 'aa': 16, 'Aa': 0, 'aA': 3}, {'AA': 2, 'aa': 14, 'Aa': 2, 'aA': 2}, {'AA': 1, 'aa': 9, 'Aa': 8, 'aA': 2}, {'AA': 0, 'aa': 10, 'Aa': 6, 'aA': 4}, {'AA': 0, 'aa': 13, 'Aa': 4, 'aA': 3}, {'AA': 1, 'aa': 14, 'Aa': 4, 'aA': 1}, {'AA': 1, 'aa': 14, 'Aa': 1, 'aA': 4}, {'AA': 3, 'aa': 16, 'Aa': 1, 'aA': 0}, {'AA': 0, 'aa': 8, 'Aa': 10, 'aA': 2}, {'AA': 1, 'aa': 12, 'Aa': 4, 'aA': 3}, {'AA': 4, 'aa': 12, 'Aa': 2, 'aA': 2}, {'AA': 1, 'aa': 10, 'Aa': 5, 'aA': 4}, {'AA': 2, 'aa': 12, 'Aa': 3, 'aA': 3}, {'AA': 0, 'aa': 13, 'Aa': 4, 'aA': 3}, {'AA': 0, 'aa': 14, 'Aa': 2, 'aA': 4}, {'AA': 0, 'aa': 13, 'Aa': 1, 'aA': 6}, {'AA': 1, 'aa': 14, 'Aa': 1, 'aA': 4}, {'AA': 1, 'aa': 14, 'Aa': 1, 'aA': 4}, {'AA': 3, 'aa': 9, 'Aa': 1, 'aA': 7}, {'AA': 2, 'aa': 11, 'Aa': 4, 'aA': 3}, {'AA': 0, 'aa': 8, 'Aa': 5, 'aA': 7}, {'AA': 1, 'aa': 12, 'Aa': 3, 'aA': 4}, {'AA': 2, 'aa': 11, 'Aa': 5, 'aA': 2}, {'AA': 0, 'aa': 15, 'Aa': 2, 'aA': 3}, {'AA': 0, 'aa': 12, 'Aa': 6, 'aA': 2}, {'AA': 2, 'aa': 10, 'Aa': 6, 'aA': 2}, {'AA': 1, 'aa': 11, 'Aa': 3, 'aA': 5}, {'AA': 0, 'aa': 14, 'Aa': 1, 'aA': 5}, {'AA': 2, 'aa': 11, 'Aa': 4, 'aA': 3}, {'AA': 1, 'aa': 13, 'Aa': 1, 'aA': 5}, {'AA': 0, 'aa': 14, 'Aa': 4, 'aA': 2}, {'AA': 1, 'aa': 12, 'Aa': 2, 'aA': 5}, {'AA': 0, 'aa': 14, 'Aa': 2, 'aA': 4}, {'AA': 0, 'aa': 13, 'Aa': 4, 'aA': 3}, {'AA': 1, 'aa': 10, 'Aa': 6, 'aA': 3}, {'AA': 1, 'aa': 11, 'Aa': 4, 'aA': 4}, {'AA': 0, 'aa': 15, 'Aa': 2, 'aA': 3}, {'AA': 2, 'aa': 11, 'Aa': 3, 'aA': 4}, {'AA': 2, 'aa': 9, 'Aa': 2, 'aA': 7}, {'AA': 0, 'aa': 12, 'Aa': 5, 'aA': 3}, {'AA': 1, 'aa': 6, 'Aa': 9, 'aA': 4}, {'AA': 1, 'aa': 12, 'Aa': 4, 'aA': 3}, {'AA': 0, 'aa': 8, 'Aa': 4, 'aA': 8}, {'AA': 3, 'aa': 12, 'Aa': 3, 'aA': 2}, {'AA': 0, 'aa': 11, 'Aa': 1, 'aA': 8}, {'AA': 1, 'aa': 10, 'Aa': 4, 'aA': 5}, {'AA': 0, 'aa': 13, 'Aa': 4, 'aA': 3}, {'AA': 2, 'aa': 12, 'Aa': 3, 'aA': 3}, {'AA': 3, 'aa': 13, 'Aa': 3, 'aA': 1}, {'AA': 3, 'aa': 10, 'Aa': 2, 'aA': 5}, {'AA': 0, 'aa': 11, 'Aa': 5, 'aA': 4}, {'AA': 1, 'aa': 6, 'Aa': 5, 'aA': 8}, {'AA': 1, 'aa': 12, 'Aa': 4, 'aA': 3}, {'AA': 1, 'aa': 12, 'Aa': 5, 'aA': 2}, {'AA': 3, 'aa': 12, 'Aa': 2, 'aA': 3}, {'AA': 2, 'aa': 8, 'Aa': 6, 'aA': 4}, {'AA': 1, 'aa': 12, 'Aa': 5, 'aA': 2}, {'AA': 2, 'aa': 13, 'Aa': 2, 'aA': 3}, {'AA': 1, 'aa': 13, 'Aa': 3, 'aA': 3}, {'AA': 1, 'aa': 11, 'Aa': 3, 'aA': 5}, {'AA': 0, 'aa': 10, 'Aa': 3, 'aA': 7}, {'AA': 4, 'aa': 10, 'Aa': 4, 'aA': 2}, {'AA': 1, 'aa': 11, 'Aa': 6, 'aA': 2}, {'AA': 1, 'aa': 12, 'Aa': 3, 'aA': 4}, {'AA': 0, 'aa': 13, 'Aa': 7, 'aA': 0}, {'AA': 1, 'aa': 15, 'Aa': 2, 'aA': 2}, {'AA': 0, 'aa': 12, 'Aa': 5, 'aA': 3}, {'AA': 1, 'aa': 15, 'Aa': 3, 'aA': 1}, {'AA': 1, 'aa': 12, 'Aa': 4, 'aA': 3}, {'AA': 0, 'aa': 14, 'Aa': 3, 'aA': 3}, {'AA': 0, 'aa': 10, 'Aa': 4, 'aA': 6}, {'AA': 1, 'aa': 12, 'Aa': 3, 'aA': 4}, {'AA': 2, 'aa': 8, 'Aa': 2, 'aA': 8}, {'AA': 0, 'aa': 16, 'Aa': 3, 'aA': 1}, {'AA': 3, 'aa': 12, 'Aa': 3, 'aA': 2}, {'AA': 0, 'aa': 13, 'Aa': 2, 'aA': 5}, {'AA': 1, 'aa': 11, 'Aa': 2, 'aA': 6}, {'AA': 1, 'aa': 11, 'Aa': 5, 'aA': 3}, {'AA': 1, 'aa': 11, 'Aa': 3, 'aA': 5}, {'AA': 2, 'aa': 16, 'Aa': 1, 'aA': 1}, {'AA': 0, 'aa': 13, 'Aa': 3, 'aA': 4}, {'AA': 0, 'aa': 15, 'Aa': 2, 'aA': 3}, {'AA': 1, 'aa': 11, 'Aa': 3, 'aA': 5}, {'AA': 0, 'aa': 11, 'Aa': 5, 'aA': 4}, {'AA': 0, 'aa': 13, 'Aa': 2, 'aA': 5}, {'AA': 0, 'aa': 15, 'Aa': 2, 'aA': 3}, {'AA': 2, 'aa': 10, 'Aa': 4, 'aA': 4}, {'AA': 2, 'aa': 9, 'Aa': 4, 'aA': 5}, {'AA': 1, 'aa': 11, 'Aa': 5, 'aA': 3}, {'AA': 1, 'aa': 12, 'Aa': 2, 'aA': 5}, {'AA': 2, 'aa': 13, 'Aa': 1, 'aA': 4}, {'AA': 0, 'aa': 13, 'Aa': 4, 'aA': 3}, {'AA': 0, 'aa': 12, 'Aa': 4, 'aA': 4}, {'AA': 3, 'aa': 10, 'Aa': 2, 'aA': 5}, {'AA': 1, 'aa': 11, 'Aa': 4, 'aA': 4}, {'AA': 3, 'aa': 11, 'Aa': 4, 'aA': 2}, {'AA': 2, 'aa': 15, 'Aa': 2, 'aA': 1}, {'AA': 0, 'aa': 11, 'Aa': 2, 'aA': 7}, {'AA': 1, 'aa': 9, 'Aa': 5, 'aA': 5}, {'AA': 1, 'aa': 11, 'Aa': 5, 'aA': 3}, {'AA': 0, 'aa': 14, 'Aa': 3, 'aA': 3}, {'AA': 1, 'aa': 15, 'Aa': 2, 'aA': 2}, {'AA': 3, 'aa': 8, 'Aa': 5, 'aA': 4}, {'AA': 3, 'aa': 4, 'Aa': 7, 'aA': 6}, {'AA': 1, 'aa': 12, 'Aa': 3, 'aA': 4}, {'AA': 0, 'aa': 14, 'Aa': 4, 'aA': 2}, {'AA': 0, 'aa': 14, 'Aa': 2, 'aA': 4}, {'AA': 1, 'aa': 14, 'Aa': 3, 'aA': 2}, {'AA': 1, 'aa': 10, 'Aa': 5, 'aA': 4}, {'AA': 1, 'aa': 11, 'Aa': 3, 'aA': 5}, {'AA': 1, 'aa': 13, 'Aa': 5, 'aA': 1}, {'AA': 0, 'aa': 13, 'Aa': 3, 'aA': 4}, {'AA': 2, 'aa': 10, 'Aa': 5, 'aA': 3}, {'AA': 3, 'aa': 11, 'Aa': 2, 'aA': 4}, {'AA': 2, 'aa': 10, 'Aa': 3, 'aA': 5}, {'AA': 1, 'aa': 14, 'Aa': 3, 'aA': 2}, {'AA': 1, 'aa': 12, 'Aa': 5, 'aA': 2}, {'AA': 0, 'aa': 10, 'Aa': 5, 'aA': 5}, {'AA': 1, 'aa': 12, 'Aa': 1, 'aA': 6}, {'AA': 1, 'aa': 14, 'Aa': 0, 'aA': 5}, {'AA': 0, 'aa': 11, 'Aa': 3, 'aA': 6}, {'AA': 1, 'aa': 11, 'Aa': 1, 'aA': 7}, {'AA': 0, 'aa': 6, 'Aa': 10, 'aA': 4}, {'AA': 1, 'aa': 12, 'Aa': 1, 'aA': 6}, {'AA': 0, 'aa': 14, 'Aa': 4, 'aA': 2}, {'AA': 0, 'aa': 12, 'Aa': 4, 'aA': 4}, {'AA': 3, 'aa': 10, 'Aa': 3, 'aA': 4}, {'AA': 0, 'aa': 12, 'Aa': 1, 'aA': 7}, {'AA': 0, 'aa': 12, 'Aa': 4, 'aA': 4}, {'AA': 3, 'aa': 12, 'Aa': 2, 'aA': 3}, {'AA': 0, 'aa': 10, 'Aa': 5, 'aA': 5}, {'AA': 0, 'aa': 12, 'Aa': 3, 'aA': 5}, {'AA': 1, 'aa': 9, 'Aa': 4, 'aA': 6}, {'AA': 1, 'aa': 10, 'Aa': 4, 'aA': 5}, {'AA': 0, 'aa': 11, 'Aa': 5, 'aA': 4}, {'AA': 0, 'aa': 11, 'Aa': 5, 'aA': 4}, {'AA': 0, 'aa': 14, 'Aa': 4, 'aA': 2}, {'AA': 3, 'aa': 8, 'Aa': 3, 'aA': 6}, {'AA': 0, 'aa': 17, 'Aa': 0, 'aA': 3}, {'AA': 2, 'aa': 11, 'Aa': 7, 'aA': 0}, {'AA': 0, 'aa': 15, 'Aa': 1, 'aA': 4}, {'AA': 1, 'aa': 11, 'Aa': 6, 'aA': 2}, {'AA': 2, 'aa': 9, 'Aa': 2, 'aA': 7}, {'AA': 1, 'aa': 13, 'Aa': 2, 'aA': 4}, {'AA': 0, 'aa': 14, 'Aa': 3, 'aA': 3}, {'AA': 0, 'aa': 11, 'Aa': 4, 'aA': 5}, {'AA': 0, 'aa': 14, 'Aa': 3, 'aA': 3}, {'AA': 1, 'aa': 12, 'Aa': 2, 'aA': 5}, {'AA': 1, 'aa': 9, 'Aa': 9, 'aA': 1}, {'AA': 1, 'aa': 13, 'Aa': 4, 'aA': 2}, {'AA': 0, 'aa': 15, 'Aa': 2, 'aA': 3}, {'AA': 3, 'aa': 8, 'Aa': 3, 'aA': 6}, {'AA': 1, 'aa': 9, 'Aa': 2, 'aA': 8}, {'AA': 0, 'aa': 15, 'Aa': 2, 'aA': 3}, {'AA': 3, 'aa': 14, 'Aa': 2, 'aA': 1}, {'AA': 0, 'aa': 19, 'Aa': 0, 'aA': 1}, {'AA': 1, 'aa': 8, 'Aa': 6, 'aA': 5}, {'AA': 0, 'aa': 10, 'Aa': 5, 'aA': 5}, {'AA': 2, 'aa': 10, 'Aa': 3, 'aA': 5}, {'AA': 2, 'aa': 8, 'Aa': 3, 'aA': 7}, {'AA': 1, 'aa': 14, 'Aa': 2, 'aA': 3}, {'AA': 1, 'aa': 10, 'Aa': 6, 'aA': 3}, {'AA': 0, 'aa': 17, 'Aa': 2, 'aA': 1}, {'AA': 1, 'aa': 13, 'Aa': 3, 'aA': 3}, {'AA': 0, 'aa': 9, 'Aa': 7, 'aA': 4}, {'AA': 0, 'aa': 10, 'Aa': 5, 'aA': 5}, {'AA': 1, 'aa': 11, 'Aa': 4, 'aA': 4}, {'AA': 1, 'aa': 13, 'Aa': 3, 'aA': 3}, {'AA': 3, 'aa': 9, 'Aa': 2, 'aA': 6}, {'AA': 0, 'aa': 14, 'Aa': 4, 'aA': 2}, {'AA': 1, 'aa': 12, 'Aa': 6, 'aA': 1}, {'AA': 1, 'aa': 11, 'Aa': 2, 'aA': 6}, {'AA': 1, 'aa': 11, 'Aa': 6, 'aA': 2}, {'AA': 0, 'aa': 14, 'Aa': 2, 'aA': 4}, {'AA': 0, 'aa': 12, 'Aa': 4, 'aA': 4}, {'AA': 0, 'aa': 17, 'Aa': 1, 'aA': 2}, {'AA': 1, 'aa': 12, 'Aa': 2, 'aA': 5}, {'AA': 1, 'aa': 14, 'Aa': 0, 'aA': 5}, {'AA': 0, 'aa': 10, 'Aa': 3, 'aA': 7}, {'AA': 1, 'aa': 12, 'Aa': 3, 'aA': 4}, {'AA': 2, 'aa': 12, 'Aa': 2, 'aA': 4}, {'AA': 0, 'aa': 15, 'Aa': 3, 'aA': 2}, {'AA': 1, 'aa': 12, 'Aa': 4, 'aA': 3}, {'AA': 1, 'aa': 11, 'Aa': 6, 'aA': 2}, {'AA': 1, 'aa': 11, 'Aa': 2, 'aA': 6}, {'AA': 1, 'aa': 13, 'Aa': 4, 'aA': 2}, {'AA': 3, 'aa': 13, 'Aa': 1, 'aA': 3}, {'AA': 1, 'aa': 12, 'Aa': 0, 'aA': 7}, {'AA': 1, 'aa': 10, 'Aa': 8, 'aA': 1}, {'AA': 0, 'aa': 13, 'Aa': 4, 'aA': 3}, {'AA': 0, 'aa': 13, 'Aa': 5, 'aA': 2}, {'AA': 1, 'aa': 11, 'Aa': 5, 'aA': 3}, {'AA': 2, 'aa': 10, 'Aa': 4, 'aA': 4}, {'AA': 1, 'aa': 9, 'Aa': 6, 'aA': 4}, {'AA': 5, 'aa': 9, 'Aa': 4, 'aA': 2}, {'AA': 4, 'aa': 13, 'Aa': 1, 'aA': 2}, {'AA': 0, 'aa': 10, 'Aa': 4, 'aA': 6}, {'AA': 1, 'aa': 11, 'Aa': 4, 'aA': 4}, {'AA': 0, 'aa': 13, 'Aa': 5, 'aA': 2}, {'AA': 2, 'aa': 13, 'Aa': 4, 'aA': 1}, {'AA': 0, 'aa': 12, 'Aa': 4, 'aA': 4}, {'AA': 1, 'aa': 11, 'Aa': 1, 'aA': 7}, {'AA': 5, 'aa': 12, 'Aa': 2, 'aA': 1}, {'AA': 0, 'aa': 8, 'Aa': 7, 'aA': 5}, {'AA': 2, 'aa': 13, 'Aa': 2, 'aA': 3}, {'AA': 1, 'aa': 12, 'Aa': 2, 'aA': 5}, {'AA': 1, 'aa': 14, 'Aa': 3, 'aA': 2}, {'AA': 2, 'aa': 13, 'Aa': 3, 'aA': 2}, {'AA': 0, 'aa': 10, 'Aa': 6, 'aA': 4}, {'AA': 0, 'aa': 17, 'Aa': 3, 'aA': 0}, {'AA': 2, 'aa': 12, 'Aa': 4, 'aA': 2}, {'AA': 0, 'aa': 11, 'Aa': 3, 'aA': 6}, {'AA': 1, 'aa': 12, 'Aa': 4, 'aA': 3}, {'AA': 1, 'aa': 12, 'Aa': 4, 'aA': 3}, {'AA': 0, 'aa': 12, 'Aa': 4, 'aA': 4}, {'AA': 2, 'aa': 11, 'Aa': 5, 'aA': 2}, {'AA': 0, 'aa': 12, 'Aa': 6, 'aA': 2}, {'AA': 1, 'aa': 12, 'Aa': 5, 'aA': 2}, {'AA': 1, 'aa': 11, 'Aa': 4, 'aA': 4}, {'AA': 0, 'aa': 9, 'Aa': 7, 'aA': 4}, {'AA': 0, 'aa': 12, 'Aa': 4, 'aA': 4}, {'AA': 1, 'aa': 11, 'Aa': 5, 'aA': 3}, {'AA': 3, 'aa': 11, 'Aa': 3, 'aA': 3}, {'AA': 0, 'aa': 11, 'Aa': 2, 'aA': 7}, {'AA': 0, 'aa': 13, 'Aa': 3, 'aA': 4}, {'AA': 1, 'aa': 10, 'Aa': 8, 'aA': 1}, {'AA': 0, 'aa': 10, 'Aa': 5, 'aA': 5}, {'AA': 1, 'aa': 11, 'Aa': 2, 'aA': 6}, {'AA': 0, 'aa': 9, 'Aa': 5, 'aA': 6}, {'AA': 1, 'aa': 12, 'Aa': 3, 'aA': 4}, {'AA': 1, 'aa': 13, 'Aa': 2, 'aA': 4}, {'AA': 3, 'aa': 13, 'Aa': 1, 'aA': 3}, {'AA': 0, 'aa': 11, 'Aa': 3, 'aA': 6}, {'AA': 1, 'aa': 17, 'Aa': 1, 'aA': 1}, {'AA': 1, 'aa': 7, 'Aa': 4, 'aA': 8}, {'AA': 0, 'aa': 9, 'Aa': 6, 'aA': 5}, {'AA': 1, 'aa': 13, 'Aa': 3, 'aA': 3}, {'AA': 1, 'aa': 12, 'Aa': 5, 'aA': 2}, {'AA': 1, 'aa': 14, 'Aa': 2, 'aA': 3}, {'AA': 0, 'aa': 12, 'Aa': 6, 'aA': 2}, {'AA': 0, 'aa': 12, 'Aa': 3, 'aA': 5}, {'AA': 2, 'aa': 13, 'Aa': 4, 'aA': 1}, {'AA': 2, 'aa': 11, 'Aa': 4, 'aA': 3}, {'AA': 1, 'aa': 9, 'Aa': 7, 'aA': 3}, {'AA': 1, 'aa': 9, 'Aa': 4, 'aA': 6}, {'AA': 1, 'aa': 14, 'Aa': 5, 'aA': 0}, {'AA': 1, 'aa': 11, 'Aa': 6, 'aA': 2}, {'AA': 0, 'aa': 12, 'Aa': 5, 'aA': 3}, {'AA': 2, 'aa': 12, 'Aa': 3, 'aA': 3}, {'AA': 1, 'aa': 16, 'Aa': 2, 'aA': 1}, {'AA': 1, 'aa': 12, 'Aa': 4, 'aA': 3}, {'AA': 1, 'aa': 13, 'Aa': 3, 'aA': 3}, {'AA': 1, 'aa': 11, 'Aa': 5, 'aA': 3}, {'AA': 0, 'aa': 11, 'Aa': 6, 'aA': 3}, {'AA': 1, 'aa': 13, 'Aa': 5, 'aA': 1}, {'AA': 0, 'aa': 11, 'Aa': 6, 'aA': 3}, {'AA': 0, 'aa': 13, 'Aa': 3, 'aA': 4}, {'AA': 2, 'aa': 11, 'Aa': 4, 'aA': 3}, {'AA': 1, 'aa': 12, 'Aa': 2, 'aA': 5}, {'AA': 2, 'aa': 12, 'Aa': 2, 'aA': 4}, {'AA': 3, 'aa': 16, 'Aa': 1, 'aA': 0}, {'AA': 1, 'aa': 13, 'Aa': 1, 'aA': 5}, {'AA': 0, 'aa': 9, 'Aa': 6, 'aA': 5}, {'AA': 0, 'aa': 11, 'Aa': 2, 'aA': 7}, {'AA': 1, 'aa': 13, 'Aa': 3, 'aA': 3}, {'AA': 0, 'aa': 12, 'Aa': 5, 'aA': 3}, {'AA': 3, 'aa': 12, 'Aa': 1, 'aA': 4}, {'AA': 1, 'aa': 14, 'Aa': 4, 'aA': 1}, {'AA': 0, 'aa': 14, 'Aa': 2, 'aA': 4}, {'AA': 0, 'aa': 12, 'Aa': 2, 'aA': 6}, {'AA': 1, 'aa': 12, 'Aa': 5, 'aA': 2}, {'AA': 1, 'aa': 13, 'Aa': 2, 'aA': 4}, {'AA': 0, 'aa': 13, 'Aa': 3, 'aA': 4}, {'AA': 2, 'aa': 10, 'Aa': 0, 'aA': 8}, {'AA': 2, 'aa': 12, 'Aa': 4, 'aA': 2}, {'AA': 1, 'aa': 14, 'Aa': 3, 'aA': 2}, {'AA': 0, 'aa': 13, 'Aa': 5, 'aA': 2}, {'AA': 1, 'aa': 6, 'Aa': 7, 'aA': 6}, {'AA': 2, 'aa': 15, 'Aa': 2, 'aA': 1}, {'AA': 0, 'aa': 14, 'Aa': 4, 'aA': 2}, {'AA': 1, 'aa': 16, 'Aa': 1, 'aA': 2}, {'AA': 1, 'aa': 13, 'Aa': 3, 'aA': 3}, {'AA': 2, 'aa': 13, 'Aa': 1, 'aA': 4}, {'AA': 3, 'aa': 8, 'Aa': 4, 'aA': 5}, {'AA': 0, 'aa': 11, 'Aa': 4, 'aA': 5}, {'AA': 2, 'aa': 10, 'Aa': 3, 'aA': 5}, {'AA': 0, 'aa': 13, 'Aa': 3, 'aA': 4}, {'AA': 1, 'aa': 14, 'Aa': 3, 'aA': 2}, {'AA': 1, 'aa': 6, 'Aa': 7, 'aA': 6}, {'AA': 0, 'aa': 13, 'Aa': 5, 'aA': 2}, {'AA': 2, 'aa': 10, 'Aa': 5, 'aA': 3}, {'AA': 1, 'aa': 13, 'Aa': 4, 'aA': 2}, {'AA': 2, 'aa': 10, 'Aa': 3, 'aA': 5}, {'AA': 0, 'aa': 15, 'Aa': 2, 'aA': 3}, {'AA': 0, 'aa': 13, 'Aa': 3, 'aA': 4}, {'AA': 0, 'aa': 14, 'Aa': 3, 'aA': 3}, {'AA': 1, 'aa': 13, 'Aa': 4, 'aA': 2}, {'AA': 2, 'aa': 10, 'Aa': 6, 'aA': 2}, {'AA': 1, 'aa': 12, 'Aa': 3, 'aA': 4}, {'AA': 2, 'aa': 10, 'Aa': 4, 'aA': 4}, {'AA': 1, 'aa': 7, 'Aa': 7, 'aA': 5}, {'AA': 1, 'aa': 12, 'Aa': 2, 'aA': 5}, {'AA': 2, 'aa': 11, 'Aa': 3, 'aA': 4}, {'AA': 0, 'aa': 9, 'Aa': 6, 'aA': 5}, {'AA': 2, 'aa': 11, 'Aa': 3, 'aA': 4}, {'AA': 1, 'aa': 11, 'Aa': 6, 'aA': 2}, {'AA': 1, 'aa': 8, 'Aa': 5, 'aA': 6}, {'AA': 1, 'aa': 11, 'Aa': 4, 'aA': 4}, {'AA': 0, 'aa': 11, 'Aa': 5, 'aA': 4}, {'AA': 0, 'aa': 13, 'Aa': 2, 'aA': 5}, {'AA': 0, 'aa': 14, 'Aa': 5, 'aA': 1}, {'AA': 0, 'aa': 16, 'Aa': 1, 'aA': 3}, {'AA': 2, 'aa': 8, 'Aa': 8, 'aA': 2}, {'AA': 2, 'aa': 11, 'Aa': 6, 'aA': 1}, {'AA': 1, 'aa': 10, 'Aa': 8, 'aA': 1}, {'AA': 1, 'aa': 8, 'Aa': 6, 'aA': 5}, {'AA': 0, 'aa': 14, 'Aa': 4, 'aA': 2}]\n"
     ]
    }
   ],
   "source": [
    "\n",
    "print(New_generation)"
   ]
  },
  {
   "cell_type": "code",
   "execution_count": null,
   "id": "dd450997",
   "metadata": {},
   "outputs": [],
   "source": []
  },
  {
   "cell_type": "code",
   "execution_count": null,
   "id": "91ef69a3",
   "metadata": {},
   "outputs": [],
   "source": []
  }
 ],
 "metadata": {
  "kernelspec": {
   "display_name": "Python 3 (ipykernel)",
   "language": "python",
   "name": "python3"
  },
  "language_info": {
   "codemirror_mode": {
    "name": "ipython",
    "version": 3
   },
   "file_extension": ".py",
   "mimetype": "text/x-python",
   "name": "python",
   "nbconvert_exporter": "python",
   "pygments_lexer": "ipython3",
   "version": "3.9.7"
  }
 },
 "nbformat": 4,
 "nbformat_minor": 5
}
